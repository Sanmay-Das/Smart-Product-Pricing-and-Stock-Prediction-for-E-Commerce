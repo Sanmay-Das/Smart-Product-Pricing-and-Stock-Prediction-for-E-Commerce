{
  "nbformat": 4,
  "nbformat_minor": 0,
  "metadata": {
    "colab": {
      "provenance": [],
      "gpuType": "T4",
      "include_colab_link": true
    },
    "kernelspec": {
      "name": "python3",
      "display_name": "Python 3"
    },
    "language_info": {
      "name": "python"
    }
  },
  "cells": [
    {
      "cell_type": "markdown",
      "metadata": {
        "id": "view-in-github",
        "colab_type": "text"
      },
      "source": [
        "<a href=\"https://colab.research.google.com/github/Sanmay-Das/Smart-Product-Pricing-and-Stock-Prediction-for-E-Commerce/blob/main/Smart_Product_Pricing_and_Stock_Prediction_for_E_Commerce.ipynb\" target=\"_parent\"><img src=\"https://colab.research.google.com/assets/colab-badge.svg\" alt=\"Open In Colab\"/></a>"
      ]
    },
    {
      "cell_type": "code",
      "execution_count": 2,
      "metadata": {
        "id": "GJdTBO6l7xoG"
      },
      "outputs": [],
      "source": [
        "# Import necessary libraries for Spark, data processing, and machine learning\n",
        "from pyspark.sql import SparkSession\n",
        "from pyspark.sql.functions import col, avg, unix_timestamp, year, month, isnan, when, count, mean\n",
        "from pyspark.sql.types import DoubleType\n",
        "from pyspark.ml.feature import VectorAssembler, MinMaxScaler, Imputer\n",
        "from pyspark.ml.regression import DecisionTreeRegressor\n",
        "from pyspark.ml.evaluation import RegressionEvaluator\n",
        "import matplotlib.pyplot as plt"
      ]
    },
    {
      "cell_type": "code",
      "source": [
        "# Initialize a Spark session for the project\n",
        "spark = SparkSession.builder.appName(\"BigBasket Analysis\").getOrCreate()"
      ],
      "metadata": {
        "id": "_7uvcPdy8PiS"
      },
      "execution_count": 3,
      "outputs": []
    },
    {
      "cell_type": "code",
      "source": [
        "# Load the dataset into a Spark DataFrame\n",
        "file_path = '/content/BigBasket_Data_Set_Expanded.csv'\n",
        "df = spark.read.csv(file_path, header=True, inferSchema=True)"
      ],
      "metadata": {
        "id": "pzgDBFOu8daj"
      },
      "execution_count": 4,
      "outputs": []
    },
    {
      "cell_type": "code",
      "source": [
        "# Display the structure and sample data of the DataFrame\n",
        "print(\"Initial Schema:\")\n",
        "df.printSchema()\n",
        "print(\"Initial Row Count:\", df.count())\n",
        "initial_row_count=df.count()\n",
        "df.show(5)"
      ],
      "metadata": {
        "id": "5igu1UWZ859T",
        "colab": {
          "base_uri": "https://localhost:8080/"
        },
        "outputId": "f098358e-432c-48bc-cb6a-b9d6f8b287f1"
      },
      "execution_count": 5,
      "outputs": [
        {
          "output_type": "stream",
          "name": "stdout",
          "text": [
            "Initial Schema:\n",
            "root\n",
            " |-- index: string (nullable = true)\n",
            " |-- product: string (nullable = true)\n",
            " |-- category: string (nullable = true)\n",
            " |-- sub_category: string (nullable = true)\n",
            " |-- brand: string (nullable = true)\n",
            " |-- present_sale_price: double (nullable = true)\n",
            " |-- market_price: string (nullable = true)\n",
            " |-- type: string (nullable = true)\n",
            " |-- rating: double (nullable = true)\n",
            " |-- Demand_Index: double (nullable = true)\n",
            " |-- Sale_Price_Last_Year: double (nullable = true)\n",
            " |-- Sale_Price_Two_Years_Ago: double (nullable = true)\n",
            "\n",
            "Initial Row Count: 1000070\n",
            "+-----+--------------------+--------------------+--------------------+-----------------+------------------+------------+--------------------+------+------------+--------------------+------------------------+\n",
            "|index|             product|            category|        sub_category|            brand|present_sale_price|market_price|                type|rating|Demand_Index|Sale_Price_Last_Year|Sale_Price_Two_Years_Ago|\n",
            "+-----+--------------------+--------------------+--------------------+-----------------+------------------+------------+--------------------+------+------------+--------------------+------------------------+\n",
            "|    1|Garlic Oil - Vege...|    Beauty & Hygiene|           Hair Care|Sri Sri Ayurveda |             220.0|       220.0|    Hair Oil & Serum|   4.1|        28.0|          208.838858|             182.1169558|\n",
            "|    2|Water Bottle - Or...|Kitchen, Garden &...|Storage & Accesso...|       Mastercook|             180.0|       180.0|Water & Fridge Bo...|   2.3|        79.0|         167.1146439|             156.5084953|\n",
            "|    3|Brass Angle Deep ...|Cleaning & Household|         Pooja Needs|              Trm|             119.0|       250.0|     Lamp & Lamp Oil|   3.4|        42.0|         104.9170125|             104.9988039|\n",
            "|    4|Cereal Flip Lid C...|Cleaning & Household|Bins & Bathroom Ware|           Nakoda|             149.0|       176.0|Laundry, Storage ...|   3.7|        24.0|         139.1185068|             130.3123435|\n",
            "|    5|Creme Soft Soap -...|    Beauty & Hygiene|    Bath & Hand Wash|            Nivea|             162.0|       162.0|Bathing Bars & Soaps|   4.4|        71.0|         147.5120411|             135.3195431|\n",
            "+-----+--------------------+--------------------+--------------------+-----------------+------------------+------------+--------------------+------+------------+--------------------+------------------------+\n",
            "only showing top 5 rows\n",
            "\n"
          ]
        }
      ]
    },
    {
      "cell_type": "markdown",
      "source": [
        "**Exploratory Data Analysis (EDA)**\n",
        "\n",
        "---\n",
        "\n"
      ],
      "metadata": {
        "id": "xW1WF3YN9W71"
      }
    },
    {
      "cell_type": "code",
      "source": [
        "# Get summary statistics for key numerical columns\n",
        "print(\"Summary Statistics:\")\n",
        "df.describe([\"present_sale_price\", \"market_price\", \"rating\", \"Demand_Index\", \"Sale_Price_Last_Year\", \"Sale_Price_Two_Years_Ago\"]).show()"
      ],
      "metadata": {
        "id": "NeIq03Mr9dh-",
        "colab": {
          "base_uri": "https://localhost:8080/"
        },
        "outputId": "d0bfe204-bce7-440d-eddf-084be1d21cc5"
      },
      "execution_count": 6,
      "outputs": [
        {
          "output_type": "stream",
          "name": "stdout",
          "text": [
            "Summary Statistics:\n",
            "+-------+------------------+------------------+------------------+------------------+--------------------+------------------------+\n",
            "|summary|present_sale_price|      market_price|            rating|      Demand_Index|Sale_Price_Last_Year|Sale_Price_Two_Years_Ago|\n",
            "+-------+------------------+------------------+------------------+------------------+--------------------+------------------------+\n",
            "|  count|           1000000|           1000000|            687412|           1000000|             1000000|                  999930|\n",
            "|   mean| 322.7463495600046|382.14882261758146| 3.948838396769899|   50.523175117617|  290.49185929643824|       274.3409146791595|\n",
            "| stddev|487.27784065839353| 581.9740643155229|0.9517419969730815|28.926567538894542|  439.02939696461834|       414.5845156418246|\n",
            "|    min|              2.45|              10.0|               1.0|               1.0|         2.095807268|             1.962495251|\n",
            "|    max|           12500.0|  Meats & Sausages|             100.0|       331.6801742|         11842.41492|             11057.36858|\n",
            "+-------+------------------+------------------+------------------+------------------+--------------------+------------------------+\n",
            "\n"
          ]
        }
      ]
    },
    {
      "cell_type": "code",
      "source": [
        "# Count missing values for all columns\n",
        "print(\"Missing Values Count:\")\n",
        "null_counts = df.select([(col(c).isNull().cast(\"int\")).alias(c) for c in df.columns]).groupBy().sum()\n",
        "null_counts.show()"
      ],
      "metadata": {
        "id": "Rmcj5THG97KN",
        "colab": {
          "base_uri": "https://localhost:8080/"
        },
        "outputId": "130143b3-3180-40a7-bf3a-70c61128a034"
      },
      "execution_count": 7,
      "outputs": [
        {
          "output_type": "stream",
          "name": "stdout",
          "text": [
            "Missing Values Count:\n",
            "+----------+------------+-------------+-----------------+----------+-----------------------+-----------------+---------+-----------+-----------------+-------------------------+-----------------------------+\n",
            "|sum(index)|sum(product)|sum(category)|sum(sub_category)|sum(brand)|sum(present_sale_price)|sum(market_price)|sum(type)|sum(rating)|sum(Demand_Index)|sum(Sale_Price_Last_Year)|sum(Sale_Price_Two_Years_Ago)|\n",
            "+----------+------------+-------------+-----------------+----------+-----------------------+-----------------+---------+-----------+-----------------+-------------------------+-----------------------------+\n",
            "|         0|          41|           70|               70|       103|                     70|               70|      105|     312658|               70|                       70|                          140|\n",
            "+----------+------------+-------------+-----------------+----------+-----------------------+-----------------+---------+-----------+-----------------+-------------------------+-----------------------------+\n",
            "\n"
          ]
        }
      ]
    },
    {
      "cell_type": "code",
      "source": [
        "# Count unique products\n",
        "distinct_products = df.select(\"product\").distinct().count()\n",
        "print(f\"Number of unique products: {distinct_products}\")"
      ],
      "metadata": {
        "id": "oqC7Lt_S9_37",
        "colab": {
          "base_uri": "https://localhost:8080/"
        },
        "outputId": "6d48b1b7-9392-4c50-ce71-7a9c7cc7ead4"
      },
      "execution_count": 8,
      "outputs": [
        {
          "output_type": "stream",
          "name": "stdout",
          "text": [
            "Number of unique products: 23543\n"
          ]
        }
      ]
    },
    {
      "cell_type": "code",
      "source": [
        "# Plot the distribution of present sale prices\n",
        "present_prices = df.select(\"present_sale_price\").filter(col(\"present_sale_price\").isNotNull()).rdd.flatMap(lambda x: x).collect()\n",
        "plt.hist(present_prices, bins=50, edgecolor='black')\n",
        "plt.title(\"Distribution of Present Sale Prices\")\n",
        "plt.xlabel(\"Present Sale Price\")\n",
        "plt.ylabel(\"Frequency\")\n",
        "plt.show()"
      ],
      "metadata": {
        "id": "35JhHc-0-Erj",
        "colab": {
          "base_uri": "https://localhost:8080/",
          "height": 472
        },
        "outputId": "81a208da-02a8-431f-e8cf-29fc9e759e27"
      },
      "execution_count": 9,
      "outputs": [
        {
          "output_type": "display_data",
          "data": {
            "text/plain": [
              "<Figure size 640x480 with 1 Axes>"
            ],
            "image/png": "[encoded data removed]"
          },
          "metadata": {}
        }
      ]
    },
    {
      "cell_type": "code",
      "source": [
        "# Display top 10 most expensive products\n",
        "print(\"Top 10 Most Expensive Products:\")\n",
        "df.select(\"product\", \"present_sale_price\").distinct().orderBy(col(\"present_sale_price\").desc()).show(10)"
      ],
      "metadata": {
        "id": "07AmrawI-K5b",
        "colab": {
          "base_uri": "https://localhost:8080/"
        },
        "outputId": "418f177e-3e24-4f9b-f42d-5c49c41a39be"
      },
      "execution_count": 10,
      "outputs": [
        {
          "output_type": "stream",
          "name": "stdout",
          "text": [
            "Top 10 Most Expensive Products:\n",
            "+--------------------+------------------+\n",
            "|             product|present_sale_price|\n",
            "+--------------------+------------------+\n",
            "|     Bravura Clipper|           12500.0|\n",
            "|Pet Food - N&D Te...|           10090.0|\n",
            "|Epilator SE9-9961...|           8184.44|\n",
            "|Gas Stove-4 Burne...|            7999.0|\n",
            "|Extra Virgin Oliv...|            7299.0|\n",
            "|4 Burner Gas Stov...|            7270.0|\n",
            "|Gas Stove-3 Burne...|            6999.0|\n",
            "| Whey Protein Powder|            6700.0|\n",
            "|Good Girl Eau De ...|            6660.0|\n",
            "|Olive Oil - Extra...|            6500.0|\n",
            "+--------------------+------------------+\n",
            "only showing top 10 rows\n",
            "\n"
          ]
        }
      ]
    },
    {
      "cell_type": "code",
      "source": [
        "# Clean the DataFrame by handling null values and duplicate rows\n",
        "threshold = int(0.2 * len(df.columns))  # Allow rows with at most 20% null values\n",
        "df = df.dropna(thresh=threshold).dropDuplicates()\n",
        "cleaned_row_count = df.count()"
      ],
      "metadata": {
        "id": "HQwzl1sO-S7b"
      },
      "execution_count": 13,
      "outputs": []
    },
    {
      "cell_type": "code",
      "source": [
        "# Ensure numerical columns have the correct data type\n",
        "for col_name in [\"Demand_Index\", \"present_sale_price\", \"market_price\", \"Sale_Price_Last_Year\", \"Sale_Price_Two_Years_Ago\"]:\n",
        "    df = df.withColumn(col_name, col(col_name).cast(DoubleType()))"
      ],
      "metadata": {
        "id": "DOjSLGVR-W-D"
      },
      "execution_count": 14,
      "outputs": []
    },
    {
      "cell_type": "code",
      "source": [
        "print(\"Cleaned Schema:\")\n",
        "df.printSchema()\n",
        "print(\"Cleaned Row Count:\", df.count())\n",
        "df.show(5)"
      ],
      "metadata": {
        "id": "XfLvkStg-cXz",
        "colab": {
          "base_uri": "https://localhost:8080/"
        },
        "outputId": "6cdd9185-6acf-4134-a42e-505963902c9d"
      },
      "execution_count": 15,
      "outputs": [
        {
          "output_type": "stream",
          "name": "stdout",
          "text": [
            "Cleaned Schema:\n",
            "root\n",
            " |-- index: string (nullable = true)\n",
            " |-- product: string (nullable = true)\n",
            " |-- category: string (nullable = true)\n",
            " |-- sub_category: string (nullable = true)\n",
            " |-- brand: string (nullable = true)\n",
            " |-- present_sale_price: double (nullable = true)\n",
            " |-- market_price: double (nullable = true)\n",
            " |-- type: string (nullable = true)\n",
            " |-- rating: double (nullable = true)\n",
            " |-- Demand_Index: double (nullable = true)\n",
            " |-- Sale_Price_Last_Year: double (nullable = true)\n",
            " |-- Sale_Price_Two_Years_Ago: double (nullable = true)\n",
            "\n",
            "Cleaned Row Count: 500002\n",
            "+-----+--------------------+--------------------+--------------------+-------------+------------------+------------+--------------------+------+------------+--------------------+------------------------+\n",
            "|index|             product|            category|        sub_category|        brand|present_sale_price|market_price|                type|rating|Demand_Index|Sale_Price_Last_Year|Sale_Price_Two_Years_Ago|\n",
            "+-----+--------------------+--------------------+--------------------+-------------+------------------+------------+--------------------+------+------------+--------------------+------------------------+\n",
            "|  395|Wonderz Milk Frui...|Bakery, Cakes & D...|               Dairy|     Sunfeast|             29.75|        35.0|Flavoured, Soya Milk|   4.1|         8.0|         28.00088618|             25.68245421|\n",
            "|  708| Chewy Mints - Lemon|Snacks & Branded ...|Chocolates & Candies|   Doublemint|              50.0|        50.0| Mints & Chewing Gum|   4.1|        74.0|         43.77415946|             42.60375553|\n",
            "|  870|Sugar Free Butter...|Snacks & Branded ...|  Biscuits & Cookies|       Unibic|              34.0|        40.0|             Cookies|   4.2|        76.0|         29.69181429|              28.0913421|\n",
            "|  999|Herbal Aloevera N...|    Beauty & Hygiene|           Skin Care|Khadi Natural|             215.0|       215.0|           Face Care|   3.4|        90.0|         193.5617536|             186.9288627|\n",
            "| 1157|Malgudi Filter Co...|           Beverages|              Coffee|  Continental|              80.0|        90.0|       Ground Coffee|   4.0|        18.0|         72.24727848|             71.68926138|\n",
            "+-----+--------------------+--------------------+--------------------+-------------+------------------+------------+--------------------+------+------------+--------------------+------------------------+\n",
            "only showing top 5 rows\n",
            "\n"
          ]
        }
      ]
    },
    {
      "cell_type": "code",
      "source": [
        "rows_dropped_percentage = ((initial_row_count - cleaned_row_count) / initial_row_count) * 100\n",
        "print(f\"Percentage of Unusable Data Removed: {rows_dropped_percentage:.2f}%\")"
      ],
      "metadata": {
        "colab": {
          "base_uri": "https://localhost:8080/"
        },
        "id": "Y2-tSgYtTgIA",
        "outputId": "8d3a71d5-62fe-4b2a-ef6b-4a2593c6dc19"
      },
      "execution_count": 16,
      "outputs": [
        {
          "output_type": "stream",
          "name": "stdout",
          "text": [
            "Percentage of Unusable Data Removed: 50.00%\n"
          ]
        }
      ]
    },
    {
      "cell_type": "code",
      "source": [
        "# Analyze most demanded products\n",
        "most_demanded = df.groupBy(\"product\").avg(\"Demand_Index\").withColumnRenamed(\"avg(Demand_Index)\", \"average_demand\")\n",
        "most_demanded = most_demanded.filter(col(\"average_demand\") <= 100).orderBy(col(\"average_demand\").desc())\n",
        "print(\"Most Demanded Products:\")\n",
        "most_demanded.show(50)"
      ],
      "metadata": {
        "id": "MHufoRWZ-uAb",
        "colab": {
          "base_uri": "https://localhost:8080/"
        },
        "outputId": "4dcc3cb2-b590-4f4a-ecd4-7dd3e743c443"
      },
      "execution_count": 18,
      "outputs": [
        {
          "output_type": "stream",
          "name": "stdout",
          "text": [
            "Most Demanded Products:\n",
            "+--------------------+-----------------+\n",
            "|             product|   average_demand|\n",
            "+--------------------+-----------------+\n",
            "|Durum Wheat Pasta...|74.44444444444444|\n",
            "|Jowar & Sweet Pot...|             74.0|\n",
            "|Total 10 Activ Na...|73.72222222222223|\n",
            "|Fresho Meat Mutto...|73.27777777777777|\n",
            "|Refreshing Intima...|73.16666666666667|\n",
            "|        Starch Spray|72.33333333333333|\n",
            "|        Triple Layer|72.22222222222223|\n",
            "|Insulated Stainle...|72.11111111111111|\n",
            "|Sweet Chilli Tort...|71.88888888888889|\n",
            "|Homemade Red Chil...|71.88888888888889|\n",
            "|Tablet - Organic,...|71.78947368421052|\n",
            "|     Creamy Milk Bar|71.72222222222223|\n",
            "|         Fish Masala| 71.6842105263158|\n",
            "|De-Toxification H...|             71.5|\n",
            "|Steel Storage/Lun...|71.42105263157895|\n",
            "|Spa Bath Shower F...|71.38888888888889|\n",
            "|Idly Stand - Non ...|71.33333333333333|\n",
            "|Parama - Luxury B...|71.27777777777777|\n",
            "|      Celery Bitters|71.16666666666667|\n",
            "|       Chicken - Ham|71.11111111111111|\n",
            "|Hand Beater - Gan...|70.94444444444444|\n",
            "|    Trixy Cookie Cup|70.88888888888889|\n",
            "|Muradabadi Amla M...|70.83333333333333|\n",
            "|       Daily Shampoo|70.83333333333333|\n",
            "|   Namkeen Moong Dal|70.72222222222223|\n",
            "|Prunes - Pitted, ...|70.66666666666667|\n",
            "|Elegance Plastic ...|70.66666666666667|\n",
            "|   Seasoning - Salad|70.66666666666667|\n",
            "|  Glymin Plus Tablet|70.55555555555556|\n",
            "|Interdental Brush...|70.55555555555556|\n",
            "|     Kesar Shrikhand|70.47368421052632|\n",
            "|Cadila Long Drink...|70.38888888888889|\n",
            "|Steel Belly Shape...|70.36842105263158|\n",
            "|          Can Opener|70.22222222222223|\n",
            "|   Anti Hairfall Kit|70.22222222222223|\n",
            "|  Masala - Egg Roast|70.16666666666667|\n",
            "|Envelope - Cloth ...|70.11111111111111|\n",
            "|Reusable Hair Rem...|69.94444444444444|\n",
            "|    Sugar Baby Mango|69.94444444444444|\n",
            "|        Mint Mukhwas|69.83333333333333|\n",
            "|     Almond Hair Oil|69.83333333333333|\n",
            "|Face Wash - Avoca...|69.77777777777777|\n",
            "|Dulhaniya Transpa...|69.77777777777777|\n",
            "|Erythritol Powder...|69.77777777777777|\n",
            "|Dates - Black, Wi...|69.72222222222223|\n",
            "|Baby Happy Round ...|69.72222222222223|\n",
            "|Charming Hand & B...|69.72222222222223|\n",
            "|Smart Matic Autom...|69.72222222222223|\n",
            "|Banana - Karpoora...| 69.6842105263158|\n",
            "|Power Plus Disinf...|69.66666666666667|\n",
            "+--------------------+-----------------+\n",
            "only showing top 50 rows\n",
            "\n"
          ]
        }
      ]
    },
    {
      "cell_type": "markdown",
      "source": [
        "**Machine Learning Workflow**\n",
        "\n",
        "---\n",
        "\n"
      ],
      "metadata": {
        "id": "LMzltbBG-xU7"
      }
    },
    {
      "cell_type": "code",
      "source": [
        "# Add an index column to preserve order\n",
        "data = df.withColumn(\"csv_order\", col(\"index\").cast(\"integer\"))"
      ],
      "metadata": {
        "id": "FDgz209z-4QL"
      },
      "execution_count": 19,
      "outputs": []
    },
    {
      "cell_type": "code",
      "source": [
        "# Impute missing values with mean for selected columns\n",
        "columns_to_impute = [\"Sale_Price_Last_Year\", \"Sale_Price_Two_Years_Ago\", \"Demand_Index\", \"rating\"]\n",
        "for column in columns_to_impute:\n",
        "    mean_value = data.selectExpr(f\"mean({column}) as mean_{column}\").collect()[0][0]\n",
        "    data = data.fillna({column: mean_value})"
      ],
      "metadata": {
        "id": "k4bXfHYL-9k7"
      },
      "execution_count": 20,
      "outputs": []
    },
    {
      "cell_type": "code",
      "source": [
        "# Prepare features using VectorAssembler\n",
        "assembler = VectorAssembler(inputCols=[\"Sale_Price_Last_Year\", \"Sale_Price_Two_Years_Ago\", \"Demand_Index\", \"rating\"], outputCol=\"features_unscaled\")\n",
        "data = assembler.transform(data)"
      ],
      "metadata": {
        "id": "gr-I_OAQ_3qj"
      },
      "execution_count": 22,
      "outputs": []
    },
    {
      "cell_type": "code",
      "source": [
        "# Scale features to a uniform range\n",
        "scaler = MinMaxScaler(inputCol=\"features_unscaled\", outputCol=\"features\")\n",
        "data = scaler.fit(data).transform(data)"
      ],
      "metadata": {
        "id": "C_yVrw4p_9DL"
      },
      "execution_count": 23,
      "outputs": []
    },
    {
      "cell_type": "code",
      "source": [
        "# Prepare the dataset for training\n",
        "ml_data = data.select(\"csv_order\", \"product\", \"features\", \"Sale_Price_Last_Year\", \"Sale_Price_Two_Years_Ago\", \"present_sale_price\").filter(col(\"present_sale_price\").isNotNull()).dropDuplicates([\"csv_order\"])\n",
        "train_data, test_data = ml_data.randomSplit([0.8, 0.2], seed=42)"
      ],
      "metadata": {
        "id": "CSpYaJN8ADH7"
      },
      "execution_count": 24,
      "outputs": []
    },
    {
      "cell_type": "code",
      "source": [
        "# Train a Decision Tree Regressor model\n",
        "dt = DecisionTreeRegressor(featuresCol=\"features\", labelCol=\"present_sale_price\")\n",
        "dt_model = dt.fit(train_data)"
      ],
      "metadata": {
        "id": "uUtUzOxyALYj"
      },
      "execution_count": 25,
      "outputs": []
    },
    {
      "cell_type": "code",
      "source": [
        "# Generate predictions and evaluate the model\n",
        "dt_predictions = dt_model.transform(ml_data).withColumnRenamed(\"prediction\", \"DT_Prediction\")\n",
        "final_predictions = ml_data.join(dt_predictions.select(\"csv_order\", \"DT_Prediction\"), on=\"csv_order\").select(\"csv_order\", \"product\", \"Sale_Price_Last_Year\", \"Sale_Price_Two_Years_Ago\", \"present_sale_price\", \"DT_Prediction\").orderBy(\"csv_order\")\n",
        "final_predictions.show(30)"
      ],
      "metadata": {
        "id": "4KwI2EqFAW1T",
        "colab": {
          "base_uri": "https://localhost:8080/"
        },
        "outputId": "ea9ed3fd-f898-4bf3-c344-2a500da88f19"
      },
      "execution_count": 26,
      "outputs": [
        {
          "output_type": "stream",
          "name": "stdout",
          "text": [
            "+---------+--------------------+--------------------+------------------------+------------------+------------------+\n",
            "|csv_order|             product|Sale_Price_Last_Year|Sale_Price_Two_Years_Ago|present_sale_price|     DT_Prediction|\n",
            "+---------+--------------------+--------------------+------------------------+------------------+------------------+\n",
            "|        1|Garlic Oil - Vege...|          208.838858|             182.1169558|             220.0|231.06843461351477|\n",
            "|        2|Water Bottle - Or...|         167.1146439|             156.5084953|             180.0|177.73138524897038|\n",
            "|        3|Brass Angle Deep ...|         104.9170125|             104.9988039|             119.0|128.34702020202022|\n",
            "|        4|Cereal Flip Lid C...|         139.1185068|             130.3123435|             149.0|177.73138524897038|\n",
            "|        5|Creme Soft Soap -...|         147.5120411|             135.3195431|             162.0|177.73138524897038|\n",
            "|        6|Germ - Removal Mu...|         150.8431804|             147.3599176|             169.0|177.73138524897038|\n",
            "|        7|        Multani Mati|         52.96321849|             51.00606619|              58.0|40.678093306288034|\n",
            "|        8|Hand Sanitizer - ...|         219.2504021|             202.6383504|             250.0|231.06843461351477|\n",
            "|        9|Biotin & Collagen...|          997.094044|             886.3887878|            1098.0|1100.6391853035145|\n",
            "|       10|Scrub Pad - Anti-...|         17.94827233|             17.99793386|              20.0|40.678093306288034|\n",
            "|       11|Wheat Grass Powde...|         229.1382594|             212.9595112|             261.0|231.06843461351477|\n",
            "|       12|Butter Cookies Go...|         548.0821005|             521.6144139|             600.0| 621.3196965317924|\n",
            "|       13|Face Wash - Oil C...|         99.99821481|             95.02168345|             110.0|128.34702020202022|\n",
            "|       14|Mold & Mildew Rem...|         303.7942143|              311.425856|             350.0|360.30199860724235|\n",
            "|       15|Just Spray - Mosq...|          181.293456|             177.5827254|             200.0|231.06843461351477|\n",
            "|       16|Dove Plastic Soap...|         43.29422086|             43.65137739|              49.0|40.678093306288034|\n",
            "|       17|Smooth Skin Oil -...|         276.8658532|             271.7990484|             324.0|360.30199860724235|\n",
            "|       18|      Salted Pumpkin|         165.5508917|             149.2462614|             180.0|177.73138524897038|\n",
            "|       19|Flax Seeds - Roasted|         107.1942501|             107.6099697|             120.0|128.34702020202022|\n",
            "|       20|Organic Tofu - So...|         79.46487449|             74.92863141|             85.14| 84.56864874301675|\n",
            "|       21|Ceramic Barrel Br...|         463.4878945|             430.7814946|             525.0|498.85067431850786|\n",
            "|       22|Instant Noodles -...|          40.8826856|             38.59162816|              45.0|40.678093306288034|\n",
            "|       23|          Chia Seeds|         110.3384158|             96.58873467|             120.0|128.34702020202022|\n",
            "|       24|Cleanse Green Tea...|         67.00077935|              67.0254601|              75.0| 84.56864874301675|\n",
            "|       25|       Veggie Cutter|         171.4408274|             165.3289419|             195.0|177.73138524897038|\n",
            "|       26|Insulated Hot Fre...|         580.1230544|             559.6940448|             659.0| 621.3196965317924|\n",
            "|       27|Granola - Happy B...|         220.4085938|             198.9792846|             245.0|231.06843461351477|\n",
            "|       28|Flaxseed - Pestic...|         49.72816455|             45.40452647|              53.9|40.678093306288034|\n",
            "|       29|        Paratha Puff|         83.41915246|             80.96715869|              90.0| 84.56864874301675|\n",
            "|       30|   Lip Butter - Rose|          150.498657|             145.2318509|            169.15|177.73138524897038|\n",
            "+---------+--------------------+--------------------+------------------------+------------------+------------------+\n",
            "only showing top 30 rows\n",
            "\n"
          ]
        }
      ]
    },
    {
      "cell_type": "code",
      "source": [
        "# Calculate the 90th percentile for price and demand\n",
        "price_percentile_90 = df.approxQuantile(\"present_sale_price\", [0.9], 0.01)[0]\n",
        "demand_percentile_90 = df.approxQuantile(\"Demand_Index\", [0.9], 0.01)[0]\n",
        "\n",
        "print(f\"90th Percentile of Present Sale Price: {price_percentile_90}\")\n",
        "print(f\"90th Percentile of Demand Index: {demand_percentile_90}\")\n"
      ],
      "metadata": {
        "id": "ISCg8pVwdHGr",
        "outputId": "f50d1100-fa4d-496e-dd49-66843219bcc8",
        "colab": {
          "base_uri": "https://localhost:8080/"
        }
      },
      "execution_count": 27,
      "outputs": [
        {
          "output_type": "stream",
          "name": "stdout",
          "text": [
            "90th Percentile of Present Sale Price: 639.0\n",
            "90th Percentile of Demand Index: 90.0\n"
          ]
        }
      ]
    },
    {
      "cell_type": "code",
      "source": [
        "# Filter products in the top 10% for price and demand\n",
        "top_10_percent_products = df.filter(\n",
        "    (col(\"present_sale_price\") >= price_percentile_90) |\n",
        "    (col(\"Demand_Index\") >= demand_percentile_90)\n",
        ")\n",
        "\n",
        "# Display the results\n",
        "print(\"Top 10% Most Expensive and Most Demanded Products:\")\n",
        "top_10_percent_products.select(\"product\", \"present_sale_price\", \"Demand_Index\").show(20)\n"
      ],
      "metadata": {
        "id": "JT_kpABmdU1-",
        "outputId": "887fa28d-035d-4b23-ceb5-95e9e6bd5acf",
        "colab": {
          "base_uri": "https://localhost:8080/"
        }
      },
      "execution_count": 28,
      "outputs": [
        {
          "output_type": "stream",
          "name": "stdout",
          "text": [
            "Top 10% Most Expensive and Most Demanded Products:\n",
            "+--------------------+------------------+------------+\n",
            "|             product|present_sale_price|Demand_Index|\n",
            "+--------------------+------------------+------------+\n",
            "|Herbal Aloevera N...|             215.0|        90.0|\n",
            "|Copper Hammered D...|            1899.0|        36.0|\n",
            "|     Mix - Rava Dosa|             110.0|        97.0|\n",
            "|Plastic Pro Lock ...|             179.0|        91.0|\n",
            "|Touch 'N' Fresh F...|              85.0|        92.0|\n",
            "|Ylang Ylang Essen...|             351.0|        97.0|\n",
            "|100% Melamine Idl...|             149.0|        99.0|\n",
            "|Cooling Mint Body...|             144.0|        93.0|\n",
            "|            Glycerin|              75.0|        98.0|\n",
            "|Face wash - Anti ...|              59.5|        98.0|\n",
            "|Chai/Cup & Saucer...|             979.0|        20.0|\n",
            "|Dahnul Oudh Bakha...|            1840.0|        76.0|\n",
            "|Moroccan Argan Ha...|             699.0|        73.0|\n",
            "|LED Lamp - 10 Wat...|             195.0|        91.0|\n",
            "|Color N Care Hair...|             190.0|        93.0|\n",
            "|   Nacho Round Chips|              81.0|        96.0|\n",
            "|Body Massage Oil ...|             899.0|         9.0|\n",
            "| Organic - Shahjeera|             125.0|        97.0|\n",
            "|Safe Sun Men Adva...|             262.5|        92.0|\n",
            "|Classic Chromite ...|            1650.0|         9.0|\n",
            "+--------------------+------------------+------------+\n",
            "only showing top 20 rows\n",
            "\n"
          ]
        }
      ]
    },
    {
      "cell_type": "code",
      "source": [
        "total_products = df.select(\"product\").distinct().count()\n",
        "top_10_products_count = top_10_percent_products.select(\"product\").distinct().count()\n",
        "\n",
        "print(f\"Total Products: {total_products}\")\n",
        "print(f\"Products in Top 10%: {top_10_products_count}\")\n",
        "percentage = (top_10_products_count / total_products) * 100\n",
        "print(f\"Percentage of Products in Top 10%: {percentage:.2f}%\")\n"
      ],
      "metadata": {
        "id": "wL3FJXNYddXl",
        "outputId": "54507539-4061-438c-998b-d8dac0618514",
        "colab": {
          "base_uri": "https://localhost:8080/"
        }
      },
      "execution_count": 29,
      "outputs": [
        {
          "output_type": "stream",
          "name": "stdout",
          "text": [
            "Total Products: 23543\n",
            "Products in Top 10%: 21296\n",
            "Percentage of Products in Top 10%: 90.46%\n"
          ]
        }
      ]
    },
    {
      "cell_type": "code",
      "source": [
        "# Extract Demand Index for non-null values\n",
        "demand_index = df.select(\"Demand_Index\").filter(col(\"Demand_Index\").isNotNull()).rdd.flatMap(lambda x: x).collect()\n",
        "\n",
        "# Plot the distribution of Demand Index\n",
        "plt.hist(demand_index, bins=50, edgecolor='black')\n",
        "plt.title(\"Distribution of Product Demand Index\")\n",
        "plt.xlabel(\"Demand Index\")\n",
        "plt.ylabel(\"Frequency\")\n",
        "plt.show()\n"
      ],
      "metadata": {
        "id": "xLSgZIcLehu2",
        "outputId": "33925719-0404-4777-e28f-aafd6f485b3c",
        "colab": {
          "base_uri": "https://localhost:8080/",
          "height": 472
        }
      },
      "execution_count": 30,
      "outputs": [
        {
          "output_type": "display_data",
          "data": {
            "text/plain": [
              "<Figure size 640x480 with 1 Axes>"
            ],
            "image/png": "[encoded data removed]"
          },
          "metadata": {}
        }
      ]
    },
    {
      "cell_type": "code",
      "source": [
        "# Extract Present Sale Price and Demand Index\n",
        "price_demand_data = df.select(\"present_sale_price\", \"Demand_Index\").filter(\n",
        "    col(\"present_sale_price\").isNotNull() & col(\"Demand_Index\").isNotNull()\n",
        ").rdd.map(lambda row: (row[0], row[1])).collect()\n",
        "\n",
        "# Plot Present Sale Price vs Demand Index\n",
        "prices, demand = zip(*price_demand_data)\n",
        "plt.scatter(prices, demand, alpha=0.5)\n",
        "plt.title(\"Product Demand vs Present Sale Price\")\n",
        "plt.xlabel(\"Present Sale Price\")\n",
        "plt.ylabel(\"Demand Index\")\n",
        "plt.show()\n"
      ],
      "metadata": {
        "id": "BF_wMJMbeoyI",
        "outputId": "6c27d0e3-498f-409f-e447-f6d39e73f9e7",
        "colab": {
          "base_uri": "https://localhost:8080/",
          "height": 472
        }
      },
      "execution_count": 31,
      "outputs": [
        {
          "output_type": "display_data",
          "data": {
            "text/plain": [
              "<Figure size 640x480 with 1 Axes>"
            ],
            "image/png": "[encoded data removed]"
          },
          "metadata": {}
        }
      ]
    },
    {
      "cell_type": "code",
      "source": [
        "# Calculate RMSE for the model\n",
        "evaluator = RegressionEvaluator(labelCol=\"present_sale_price\", predictionCol=\"DT_Prediction\", metricName=\"rmse\")\n",
        "dt_rmse = evaluator.evaluate(final_predictions)\n",
        "print(f\"Decision Tree RMSE: {dt_rmse}\")"
      ],
      "metadata": {
        "id": "4kjpeLWJAaZb",
        "colab": {
          "base_uri": "https://localhost:8080/"
        },
        "outputId": "eac78b96-a99b-4094-80ec-96392e8f5618"
      },
      "execution_count": 21,
      "outputs": [
        {
          "output_type": "stream",
          "name": "stdout",
          "text": [
            "Decision Tree RMSE: 127.4229686778751\n"
          ]
        }
      ]
    }
  ]
}